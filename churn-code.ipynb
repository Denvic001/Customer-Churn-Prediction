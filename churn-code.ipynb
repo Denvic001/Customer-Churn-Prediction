{
 "cells": [
  {
   "cell_type": "markdown",
   "metadata": {},
   "source": [
    "### Project Overview\n",
    "\n",
    "Customer churn—the phenomenon where customers discontinue their subscription to a service—poses a significant challenge for subscription-based businesses. Accurately predicting which customers are likely to leave enables companies to proactively engage at-risk customers, optimize retention strategies, and ultimately improve profitability. This project aims to develop a predictive model using machine learning techniques such as logistic regression and random forests, combined with thoughtful feature engineering, to identify customers at high risk of churn. The insights derived will inform actionable business recommendations and a cost-benefit analysis to guide retention efforts"
   ]
  },
  {
   "cell_type": "markdown",
   "metadata": {},
   "source": [
    "### Business Understanding\n",
    "For subscription-based businesses, retaining existing customers is often more cost-effective than acquiring new ones. High churn rates can signal underlying issues with customer satisfaction, product fit, or competitive pressures, directly impacting revenue and growth. By understanding the drivers of churn and identifying at-risk customers, the business can:\n",
    "Target retention campaigns more effectively (e.g., personalized offers, improved customer support)\n",
    "Allocate resources efficiently to maximize return on investment in retention\n",
    "Reduce lost revenue and improve customer lifetime value\n",
    "The key business questions addressed in this project are:\n",
    "Which customers are most likely to leave the service in the near future?\n",
    "What are the main factors contributing to customer churn?\n",
    "How can the business intervene to reduce churn, and what is the expected financial impact of these interventions?\n",
    "The project will use historical customer data—including demographics, service usage, account information, and previous churn behavior—to build and evaluate predictive models. The final deliverables will include actionable recommendations and a cost-benefit analysis to support data-driven decision-making for customer retention.\n"
   ]
  },
  {
   "cell_type": "markdown",
   "metadata": {},
   "source": [
    "### Import Libraries and Dataset"
   ]
  },
  {
   "cell_type": "code",
   "execution_count": 43,
   "metadata": {},
   "outputs": [
    {
     "name": "stdout",
     "output_type": "stream",
     "text": [
      "   customerID  gender  SeniorCitizen Partner Dependents  tenure PhoneService  \\\n",
      "0  7590-VHVEG  Female              0     Yes         No       1           No   \n",
      "1  5575-GNVDE    Male              0      No         No      34          Yes   \n",
      "2  3668-QPYBK    Male              0      No         No       2          Yes   \n",
      "3  7795-CFOCW    Male              0      No         No      45           No   \n",
      "4  9237-HQITU  Female              0      No         No       2          Yes   \n",
      "\n",
      "      MultipleLines InternetService OnlineSecurity  ... DeviceProtection  \\\n",
      "0  No phone service             DSL             No  ...               No   \n",
      "1                No             DSL            Yes  ...              Yes   \n",
      "2                No             DSL            Yes  ...               No   \n",
      "3  No phone service             DSL            Yes  ...              Yes   \n",
      "4                No     Fiber optic             No  ...               No   \n",
      "\n",
      "  TechSupport StreamingTV StreamingMovies        Contract PaperlessBilling  \\\n",
      "0          No          No              No  Month-to-month              Yes   \n",
      "1          No          No              No        One year               No   \n",
      "2          No          No              No  Month-to-month              Yes   \n",
      "3         Yes          No              No        One year               No   \n",
      "4          No          No              No  Month-to-month              Yes   \n",
      "\n",
      "               PaymentMethod MonthlyCharges  TotalCharges Churn  \n",
      "0           Electronic check          29.85         29.85    No  \n",
      "1               Mailed check          56.95        1889.5    No  \n",
      "2               Mailed check          53.85        108.15   Yes  \n",
      "3  Bank transfer (automatic)          42.30       1840.75    No  \n",
      "4           Electronic check          70.70        151.65   Yes  \n",
      "\n",
      "[5 rows x 21 columns]\n"
     ]
    }
   ],
   "source": [
    "import pandas as pd\n",
    "df = pd.read_csv(\"C:/Users/Administrator/Documents/Customer churn prediction project/WA_Fn-UseC_-Telco-Customer-Churn.csv\")\n",
    "print(df.head())"
   ]
  },
  {
   "cell_type": "markdown",
   "metadata": {},
   "source": [
    "### Exploratory Data Analysis(EDA)"
   ]
  },
  {
   "cell_type": "code",
   "execution_count": 44,
   "metadata": {},
   "outputs": [
    {
     "data": {
      "text/plain": [
       "customerID          0\n",
       "gender              0\n",
       "SeniorCitizen       0\n",
       "Partner             0\n",
       "Dependents          0\n",
       "tenure              0\n",
       "PhoneService        0\n",
       "MultipleLines       0\n",
       "InternetService     0\n",
       "OnlineSecurity      0\n",
       "OnlineBackup        0\n",
       "DeviceProtection    0\n",
       "TechSupport         0\n",
       "StreamingTV         0\n",
       "StreamingMovies     0\n",
       "Contract            0\n",
       "PaperlessBilling    0\n",
       "PaymentMethod       0\n",
       "MonthlyCharges      0\n",
       "TotalCharges        0\n",
       "Churn               0\n",
       "dtype: int64"
      ]
     },
     "execution_count": 44,
     "metadata": {},
     "output_type": "execute_result"
    }
   ],
   "source": [
    "# Check for missing values\n",
    "df.isna().sum()"
   ]
  },
  {
   "cell_type": "code",
   "execution_count": 45,
   "metadata": {},
   "outputs": [
    {
     "name": "stdout",
     "output_type": "stream",
     "text": [
      "<class 'pandas.core.frame.DataFrame'>\n",
      "RangeIndex: 7043 entries, 0 to 7042\n",
      "Data columns (total 21 columns):\n",
      " #   Column            Non-Null Count  Dtype  \n",
      "---  ------            --------------  -----  \n",
      " 0   customerID        7043 non-null   object \n",
      " 1   gender            7043 non-null   object \n",
      " 2   SeniorCitizen     7043 non-null   int64  \n",
      " 3   Partner           7043 non-null   object \n",
      " 4   Dependents        7043 non-null   object \n",
      " 5   tenure            7043 non-null   int64  \n",
      " 6   PhoneService      7043 non-null   object \n",
      " 7   MultipleLines     7043 non-null   object \n",
      " 8   InternetService   7043 non-null   object \n",
      " 9   OnlineSecurity    7043 non-null   object \n",
      " 10  OnlineBackup      7043 non-null   object \n",
      " 11  DeviceProtection  7043 non-null   object \n",
      " 12  TechSupport       7043 non-null   object \n",
      " 13  StreamingTV       7043 non-null   object \n",
      " 14  StreamingMovies   7043 non-null   object \n",
      " 15  Contract          7043 non-null   object \n",
      " 16  PaperlessBilling  7043 non-null   object \n",
      " 17  PaymentMethod     7043 non-null   object \n",
      " 18  MonthlyCharges    7043 non-null   float64\n",
      " 19  TotalCharges      7043 non-null   object \n",
      " 20  Churn             7043 non-null   object \n",
      "dtypes: float64(1), int64(2), object(18)\n",
      "memory usage: 1.1+ MB\n"
     ]
    }
   ],
   "source": [
    "# Check data types\n",
    "df.info()\n"
   ]
  },
  {
   "cell_type": "code",
   "execution_count": 46,
   "metadata": {},
   "outputs": [
    {
     "data": {
      "text/html": [
       "<div>\n",
       "<style scoped>\n",
       "    .dataframe tbody tr th:only-of-type {\n",
       "        vertical-align: middle;\n",
       "    }\n",
       "\n",
       "    .dataframe tbody tr th {\n",
       "        vertical-align: top;\n",
       "    }\n",
       "\n",
       "    .dataframe thead th {\n",
       "        text-align: right;\n",
       "    }\n",
       "</style>\n",
       "<table border=\"1\" class=\"dataframe\">\n",
       "  <thead>\n",
       "    <tr style=\"text-align: right;\">\n",
       "      <th></th>\n",
       "      <th>SeniorCitizen</th>\n",
       "      <th>tenure</th>\n",
       "      <th>MonthlyCharges</th>\n",
       "    </tr>\n",
       "  </thead>\n",
       "  <tbody>\n",
       "    <tr>\n",
       "      <th>count</th>\n",
       "      <td>7043.000000</td>\n",
       "      <td>7043.000000</td>\n",
       "      <td>7043.000000</td>\n",
       "    </tr>\n",
       "    <tr>\n",
       "      <th>mean</th>\n",
       "      <td>0.162147</td>\n",
       "      <td>32.371149</td>\n",
       "      <td>64.761692</td>\n",
       "    </tr>\n",
       "    <tr>\n",
       "      <th>std</th>\n",
       "      <td>0.368612</td>\n",
       "      <td>24.559481</td>\n",
       "      <td>30.090047</td>\n",
       "    </tr>\n",
       "    <tr>\n",
       "      <th>min</th>\n",
       "      <td>0.000000</td>\n",
       "      <td>0.000000</td>\n",
       "      <td>18.250000</td>\n",
       "    </tr>\n",
       "    <tr>\n",
       "      <th>25%</th>\n",
       "      <td>0.000000</td>\n",
       "      <td>9.000000</td>\n",
       "      <td>35.500000</td>\n",
       "    </tr>\n",
       "    <tr>\n",
       "      <th>50%</th>\n",
       "      <td>0.000000</td>\n",
       "      <td>29.000000</td>\n",
       "      <td>70.350000</td>\n",
       "    </tr>\n",
       "    <tr>\n",
       "      <th>75%</th>\n",
       "      <td>0.000000</td>\n",
       "      <td>55.000000</td>\n",
       "      <td>89.850000</td>\n",
       "    </tr>\n",
       "    <tr>\n",
       "      <th>max</th>\n",
       "      <td>1.000000</td>\n",
       "      <td>72.000000</td>\n",
       "      <td>118.750000</td>\n",
       "    </tr>\n",
       "  </tbody>\n",
       "</table>\n",
       "</div>"
      ],
      "text/plain": [
       "       SeniorCitizen       tenure  MonthlyCharges\n",
       "count    7043.000000  7043.000000     7043.000000\n",
       "mean        0.162147    32.371149       64.761692\n",
       "std         0.368612    24.559481       30.090047\n",
       "min         0.000000     0.000000       18.250000\n",
       "25%         0.000000     9.000000       35.500000\n",
       "50%         0.000000    29.000000       70.350000\n",
       "75%         0.000000    55.000000       89.850000\n",
       "max         1.000000    72.000000      118.750000"
      ]
     },
     "execution_count": 46,
     "metadata": {},
     "output_type": "execute_result"
    }
   ],
   "source": [
    "df.describe()"
   ]
  },
  {
   "cell_type": "code",
   "execution_count": 47,
   "metadata": {},
   "outputs": [
    {
     "data": {
      "text/plain": [
       "0"
      ]
     },
     "execution_count": 47,
     "metadata": {},
     "output_type": "execute_result"
    }
   ],
   "source": [
    "df.duplicated().sum()"
   ]
  },
  {
   "cell_type": "code",
   "execution_count": 48,
   "metadata": {},
   "outputs": [
    {
     "data": {
      "text/plain": [
       "Index(['customerID', 'gender', 'SeniorCitizen', 'Partner', 'Dependents',\n",
       "       'tenure', 'PhoneService', 'MultipleLines', 'InternetService',\n",
       "       'OnlineSecurity', 'OnlineBackup', 'DeviceProtection', 'TechSupport',\n",
       "       'StreamingTV', 'StreamingMovies', 'Contract', 'PaperlessBilling',\n",
       "       'PaymentMethod', 'MonthlyCharges', 'TotalCharges', 'Churn'],\n",
       "      dtype='object')"
      ]
     },
     "execution_count": 48,
     "metadata": {},
     "output_type": "execute_result"
    }
   ],
   "source": [
    "df.columns"
   ]
  },
  {
   "cell_type": "markdown",
   "metadata": {},
   "source": [
    "### Feature Engineering For Segmentation"
   ]
  },
  {
   "cell_type": "code",
   "execution_count": 49,
   "metadata": {},
   "outputs": [
    {
     "name": "stdout",
     "output_type": "stream",
     "text": [
      "0        0-12\n",
      "1       24-36\n",
      "2        0-12\n",
      "3       36-48\n",
      "4        0-12\n",
      "        ...  \n",
      "7038    12-24\n",
      "7039    60-72\n",
      "7040     0-12\n",
      "7041     0-12\n",
      "7042    60-72\n",
      "Name: tenure_group, Length: 7043, dtype: category\n",
      "Categories (6, object): ['0-12' < '12-24' < '24-36' < '36-48' < '48-60' < '60-72']\n"
     ]
    }
   ],
   "source": [
    "#Tenure Grouping\n",
    "df['tenure_group'] = pd.cut(df['tenure'], bins=[0, 12, 24, 36, 48, 60, 72], labels=['0-12', '12-24', '24-36', '36-48', '48-60', '60-72'])\n",
    "print(df['tenure_group'])"
   ]
  },
  {
   "cell_type": "code",
   "execution_count": 50,
   "metadata": {},
   "outputs": [
    {
     "name": "stdout",
     "output_type": "stream",
     "text": [
      "0       1\n",
      "1       3\n",
      "2       3\n",
      "3       3\n",
      "4       1\n",
      "       ..\n",
      "7038    7\n",
      "7039    6\n",
      "7040    1\n",
      "7041    2\n",
      "7042    6\n",
      "Name: num_services, Length: 7043, dtype: int64\n"
     ]
    }
   ],
   "source": [
    "# Service Count\n",
    "# count how many services a customer subscribes to.\n",
    "service_cols = ['PhoneService', 'MultipleLines', 'OnlineSecurity', 'OnlineBackup', \n",
    "                'DeviceProtection', 'TechSupport', 'StreamingTV', 'StreamingMovies']\n",
    "df['num_services'] = df[service_cols].apply(lambda x: sum(x == 'Yes'), axis=1)\n",
    "print(df['num_services'])"
   ]
  },
  {
   "cell_type": "code",
   "execution_count": 51,
   "metadata": {},
   "outputs": [
    {
     "name": "stdout",
     "output_type": "stream",
     "text": [
      "0        29.850000\n",
      "1        55.573529\n",
      "2        54.075000\n",
      "3        40.905556\n",
      "4        75.825000\n",
      "           ...    \n",
      "7038     82.937500\n",
      "7039    102.262500\n",
      "7040     31.495455\n",
      "7041     76.650000\n",
      "7042    103.704545\n",
      "Name: avg_monthly_spend, Length: 7043, dtype: float64\n"
     ]
    }
   ],
   "source": [
    "## Calculate Average Monthly Spend per user\n",
    "df['TotalCharges'] = pd.to_numeric(df['TotalCharges'], errors='coerce')\n",
    "df['avg_monthly_spend'] = df['TotalCharges'] / (df['tenure'].replace(0, 1))\n",
    "\n",
    "print(df['avg_monthly_spend'])"
   ]
  },
  {
   "cell_type": "code",
   "execution_count": 52,
   "metadata": {},
   "outputs": [
    {
     "name": "stdout",
     "output_type": "stream",
     "text": [
      "0       Month-to-month_Electronic check\n",
      "1                 One year_Mailed check\n",
      "2           Month-to-month_Mailed check\n",
      "3    One year_Bank transfer (automatic)\n",
      "4       Month-to-month_Electronic check\n",
      "Name: Contract_PaymentMethod, dtype: object\n"
     ]
    }
   ],
   "source": [
    "# Contract and Payment Method \n",
    "# Combine Contract and PaymentMethod into a new feature\n",
    "df['Contract_PaymentMethod'] = df['Contract'] + '_' + df['PaymentMethod']\n",
    "\n",
    "# Display the first few values to check\n",
    "print(df['Contract_PaymentMethod'].head())"
   ]
  },
  {
   "cell_type": "markdown",
   "metadata": {},
   "source": [
    "Customers on month-to-month contracts who pay by electronic check may be more likely to churn than those on two-year contracts with automatic payments.\n",
    "This combined feature allows the model to learn such patterns, which may not be obvious when using the features separately."
   ]
  },
  {
   "cell_type": "markdown",
   "metadata": {},
   "source": [
    "### 1. Binary Encoding of Service Features"
   ]
  },
  {
   "cell_type": "markdown",
   "metadata": {},
   "source": [
    "# Convert all Yes/No/No internet service/No phone service columns to binary (1/0)."
   ]
  },
  {
   "cell_type": "code",
   "execution_count": 53,
   "metadata": {},
   "outputs": [
    {
     "name": "stdout",
     "output_type": "stream",
     "text": [
      "['PhoneService', 'MultipleLines', 'InternetService', 'OnlineSecurity', 'OnlineBackup', 'DeviceProtection', 'TechSupport', 'StreamingTV', 'StreamingMovies']\n"
     ]
    }
   ],
   "source": [
    "# List of service columns\n",
    "service_cols = [\n",
    "    'PhoneService', 'MultipleLines', 'InternetService',\n",
    "    'OnlineSecurity', 'OnlineBackup', 'DeviceProtection', 'TechSupport',\n",
    "    'StreamingTV', 'StreamingMovies'\n",
    "]\n",
    "\n",
    "# Map Yes/No/No internet service/No phone service to 1/0\n",
    "binary_map = {'Yes': 1, 'No': 0, 'No internet service': 0, 'No phone service': 0}\n",
    "\n",
    "for col in service_cols:\n",
    "    if col in ['InternetService']:\n",
    "        # For InternetService, create dummies for each type\n",
    "        dummies = pd.get_dummies(df[col], prefix=col)\n",
    "        df = pd.concat([df, dummies], axis=1)\n",
    "    else:\n",
    "        df[col + '_bin'] = df[col].map(binary_map)\n",
    "\n",
    "\n",
    "print(service_cols)"
   ]
  },
  {
   "cell_type": "markdown",
   "metadata": {},
   "source": [
    "### 2. Total Number Of Services Subscribed"
   ]
  },
  {
   "cell_type": "markdown",
   "metadata": {},
   "source": [
    "## Count how many services a customer subscribes to(excluding InternetService type)."
   ]
  },
  {
   "cell_type": "code",
   "execution_count": 54,
   "metadata": {},
   "outputs": [
    {
     "name": "stdout",
     "output_type": "stream",
     "text": [
      "0       1\n",
      "1       3\n",
      "2       3\n",
      "3       3\n",
      "4       1\n",
      "       ..\n",
      "7038    7\n",
      "7039    6\n",
      "7040    1\n",
      "7041    2\n",
      "7042    6\n",
      "Name: num_services, Length: 7043, dtype: int64\n"
     ]
    }
   ],
   "source": [
    "# Count number of services (excluding InternetService type)\n",
    "service_bin_cols = [\n",
    "    'PhoneService_bin', 'MultipleLines_bin', 'OnlineSecurity_bin',\n",
    "    'OnlineBackup_bin', 'DeviceProtection_bin', 'TechSupport_bin',\n",
    "    'StreamingTV_bin', 'StreamingMovies_bin'\n",
    "]\n",
    "df['num_services'] = df[service_bin_cols].sum(axis=1)\n",
    "\n",
    "print(df['num_services'])"
   ]
  },
  {
   "cell_type": "markdown",
   "metadata": {},
   "source": [
    "### 3. Bundled Services\n",
    "\n",
    "## Create a feature indicating if a customer has all streaming services, all security services, etc."
   ]
  },
  {
   "cell_type": "code",
   "execution_count": 55,
   "metadata": {},
   "outputs": [],
   "source": [
    "# Has all streaming services\n",
    "df['all_streaming'] = ((df['StreamingTV_bin'] == 1) & (df['StreamingMovies_bin'] == 1)).astype(int)\n",
    "\n",
    "# Has all security/backup services\n",
    "df['all_security'] = (\n",
    "    (df['OnlineSecurity_bin'] == 1) &\n",
    "    (df['OnlineBackup_bin'] == 1) &\n",
    "    (df['DeviceProtection_bin'] == 1) &\n",
    "    (df['TechSupport_bin'] == 1)\n",
    ").astype(int)"
   ]
  },
  {
   "cell_type": "code",
   "execution_count": 56,
   "metadata": {},
   "outputs": [
    {
     "data": {
      "text/plain": [
       "customerID  gender  SeniorCitizen  Partner  Dependents  tenure  PhoneService  MultipleLines     InternetService  OnlineSecurity       OnlineBackup         DeviceProtection     TechSupport          StreamingTV          StreamingMovies      Contract        PaperlessBilling  PaymentMethod              MonthlyCharges  TotalCharges  Churn  tenure_group  num_services  avg_monthly_spend  Contract_PaymentMethod                    PhoneService_bin  MultipleLines_bin  InternetService_DSL  InternetService_Fiber optic  InternetService_No  OnlineSecurity_bin  OnlineBackup_bin  DeviceProtection_bin  TechSupport_bin  StreamingTV_bin  StreamingMovies_bin  all_streaming  all_security\n",
       "0002-ORFBO  Female  0              Yes      Yes         9       Yes           No                DSL              No                   Yes                  No                   Yes                  Yes                  No                   One year        Yes               Mailed check               65.60           593.30        No     0-12          4             65.922222          One year_Mailed check                     1                 0                  True                 False                        False               0                   1                 0                     1                1                0                    0              0               1\n",
       "6619-RPLQZ  Female  0              Yes      Yes         45      Yes           No                No               No internet service  No internet service  No internet service  No internet service  No internet service  No internet service  Two year        No                Mailed check               20.85           892.15        No     36-48         1             19.825556          Two year_Mailed check                     1                 0                  False                False                        True                0                   0                 0                     0                0                0                    0              0               1\n",
       "6629-LADHQ  Female  0              No       No          2       Yes           No                DSL              Yes                  No                   No                   No                   No                   No                   Month-to-month  No                Mailed check               50.95           123.05        No     0-12          2             61.525000          Month-to-month_Mailed check               1                 0                  True                 False                        False               1                   0                 0                     0                0                0                    0              0               1\n",
       "6629-CZTTH  Male    0              No       No          1       Yes           No                DSL              No                   No                   No                   No                   No                   Yes                  Month-to-month  Yes               Mailed check               55.70           55.70         Yes    0-12          2             55.700000          Month-to-month_Mailed check               1                 0                  True                 False                        False               0                   0                 0                     0                0                1                    0              0               1\n",
       "6627-CFOSN  Female  0              No       No          59      Yes           Yes               Fiber optic      Yes                  Yes                  Yes                  No                   No                   Yes                  Month-to-month  Yes               Bank transfer (automatic)  99.45           5623.70       No     48-60         6             95.316949          Month-to-month_Bank transfer (automatic)  1                 1                  False                True                         False               1                   1                 1                     0                0                1                    0              0               1\n",
       "                                                                                                                                                                                                                                                                                                                                                                                                                                                                                                                                                                                                                                                                                                      ..\n",
       "3359-DSRKA  Female  0              Yes      Yes         58      Yes           No                No               No internet service  No internet service  No internet service  No internet service  No internet service  No internet service  Two year        Yes               Mailed check               19.85           1158.85       No     48-60         1             19.980172          Two year_Mailed check                     1                 0                  False                False                        True                0                   0                 0                     0                0                0                    0              0               1\n",
       "3354-OADJP  Female  0              No       No          8       Yes           No                DSL              Yes                  No                   No                   Yes                  No                   No                   One year        No                Bank transfer (automatic)  54.25           447.75        No     0-12          3             55.968750          One year_Bank transfer (automatic)        1                 0                  True                 False                        False               1                   0                 0                     1                0                0                    0              0               1\n",
       "3352-RICWQ  Female  0              Yes      Yes         9       Yes           No                No               No internet service  No internet service  No internet service  No internet service  No internet service  No internet service  Two year        No                Mailed check               19.75           210.65        No     0-12          1             23.405556          Two year_Mailed check                     1                 0                  False                False                        True                0                   0                 0                     0                0                0                    0              0               1\n",
       "3352-ALMCK  Male    0              No       No          40      Yes           Yes               Fiber optic      No                   Yes                  Yes                  No                   Yes                  Yes                  Month-to-month  Yes               Mailed check               102.65          4108.15       No     36-48         6             102.703750         Month-to-month_Mailed check               1                 1                  False                True                         False               0                   1                 1                     0                1                1                    1              0               1\n",
       "9995-HOTOH  Male    0              Yes      Yes         63      No            No phone service  DSL              Yes                  Yes                  Yes                  No                   Yes                  Yes                  Two year        No                Electronic check           59.00           3707.60       No     60-72         5             58.850794          Two year_Electronic check                 0                 0                  True                 False                        False               1                   1                 1                     0                1                1                    1              0               1\n",
       "Name: count, Length: 7032, dtype: int64"
      ]
     },
     "execution_count": 56,
     "metadata": {},
     "output_type": "execute_result"
    }
   ],
   "source": [
    "df.value_counts()"
   ]
  },
  {
   "cell_type": "code",
   "execution_count": null,
   "metadata": {},
   "outputs": [],
   "source": []
  }
 ],
 "metadata": {
  "kernelspec": {
   "display_name": "base",
   "language": "python",
   "name": "python3"
  },
  "language_info": {
   "codemirror_mode": {
    "name": "ipython",
    "version": 3
   },
   "file_extension": ".py",
   "mimetype": "text/x-python",
   "name": "python",
   "nbconvert_exporter": "python",
   "pygments_lexer": "ipython3",
   "version": "3.11.7"
  }
 },
 "nbformat": 4,
 "nbformat_minor": 2
}
